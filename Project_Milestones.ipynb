| Deliverable  | Percent Complete | Expected Percent By Next Milestone | Estimated Completion Date |
|--------------|------------------|------------------------------------|---------------------------|
|    Code      |        0%        |                 15%                |          Apr. 11          |
|    Demo      |        0%        |                 10%                |           Apr. 4          |
|   Dataset    |        0%        |                 25%                |          Mar. 28          |
| Presentation |        0%        |                 0%                 |            TBD            |


1.
2.
3.
