{
 "cells": [
  {
   "cell_type": "markdown",
   "id": "9f6f4b66-f23c-4882-9f29-491c23308d81",
   "metadata": {},
   "source": [
    "Project Milestone 1\n",
    "_____________________________________________________________________________"
   ]
  },
  {
   "cell_type": "markdown",
   "id": "ab2c6936-a73c-437f-a737-7527bc860c33",
   "metadata": {},
   "source": [
    "| Deliverable  | Percent Complete | Expected Percent By Next Milestone | Estimated Completion Date |\n",
    "|--------------|------------------|------------------------------------|---------------------------|\n",
    "|    Code      |        0%        |                 15%                |          Apr. 11          |\n",
    "|    Demo      |        0%        |                 10%                |           Apr. 4          |\n",
    "|   Dataset    |        0%        |                 25%                |          Mar. 28          |\n",
    "| Presentation |        0%        |                 0%                 |            TBD            |\n",
    "\n",
    "\n",
    "1. This is the first milestone report, so therefore there is no progress to compare to the last. \n",
    "2. This is the first milestone report, so therefore there is no progress to compare to the last. \n",
    "3. The main deliverable goals to meet next time is to get 15% of the code/demo done, Brian, Jacob V, and Lance are going to work on that. Also to get 25% of the dataset done, Jacob L and Kevin are working on that. \n"
   ]
  }
 ],
 "metadata": {
  "kernelspec": {
   "display_name": "Python 3 (ipykernel)",
   "language": "python",
   "name": "python3"
  },
  "language_info": {
   "codemirror_mode": {
    "name": "ipython",
    "version": 3
   },
   "file_extension": ".py",
   "mimetype": "text/x-python",
   "name": "python",
   "nbconvert_exporter": "python",
   "pygments_lexer": "ipython3",
   "version": "3.9.7"
  }
 },
 "nbformat": 4,
 "nbformat_minor": 5
}
