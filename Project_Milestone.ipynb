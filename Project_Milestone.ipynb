{
 "cells": [
  {
   "cell_type": "markdown",
   "id": "9f6f4b66-f23c-4882-9f29-491c23308d81",
   "metadata": {},
   "source": [
    "#Project Reports\n",
    "_____________________________________________________________________________"
   ]
  },
  {
   "cell_type": "markdown",
   "id": "5876f0f2-522e-4d62-8d87-316a8874746c",
   "metadata": {},
   "source": [
    "Project Milestone 1"
   ]
  },
  {
   "cell_type": "markdown",
   "id": "73d75448-9585-421b-a1b3-598bf9ba84af",
   "metadata": {},
   "source": [
    "| Deliverable  | Percent Complete | Expected Percent By Next Milestone | Estimated Completion Date |\n",
    "|--------------|------------------|------------------------------------|---------------------------|\n",
    "|    Code      |        0%        |                 15%                |          Apr. 11          |\n",
    "|    Demo      |        0%        |                 10%                |           Apr. 4          |\n",
    "|   Dataset    |        0%        |                 25%                |          Mar. 28          |\n",
    "| Presentation |        0%        |                 0%                 |            TBD            |\n",
    "\n",
    "\n",
    "1. This is the first milestone report, so therefore there are no progress to compare to the last \n",
    "2. This is the first milestone report, so therefore there are no progress to compare to the last\n",
    "3. The main deliverable goals to meet next time is to get 15% of the code/demo done and Brian, Jacob V, and Lance are going to work on that. Also to get 25% of the dataset done, Jacob L and Kevin are working on that. "
   ]
  },
  {
   "cell_type": "markdown",
   "id": "945fb1d6-5d4c-49ed-af75-b0e68903bde5",
   "metadata": {},
   "source": [
    "Project Milestone 2"
   ]
  },
  {
   "cell_type": "markdown",
   "id": "636bd76f-68f5-4283-98d8-8a4c650cff9c",
   "metadata": {},
   "source": [
    "| Deliverable  | Percent Complete | Expected Percent By Next Milestone | Estimated Completion Date |\n",
    "|--------------|------------------|------------------------------------|---------------------------|\n",
    "|    Code      |        5-10%     |                 25%                |          Apr. 11          |\n",
    "|    Demo      |        0%        |                 10%                |           Apr. 4          |\n",
    "|   Dataset    |        10%       |                 35%                |          Mar. 28          |\n",
    "| Presentation |        0%        |                 0%                 |            TBD            |\n",
    "\n",
    "\n",
    "1. This second milestone report, we have started the code and about 5-10% of it is done. Also, we have our dataset to start the model and about 10% of it is ready. \n",
    "2. We have not done the demo and have not accomplished the presentation. \n",
    "3. The main deliverable goals to meet next time is to get 25% of the code/demo done. Also to get 35% of the dataset done."
   ]
  },
  {
   "cell_type": "code",
   "execution_count": null,
   "id": "248b930a-7833-46b5-b06a-9caeab09680b",
   "metadata": {},
   "outputs": [],
   "source": []
  }
 ],
 "metadata": {
  "kernelspec": {
   "display_name": "Python 3 (ipykernel)",
   "language": "python",
   "name": "python3"
  },
  "language_info": {
   "codemirror_mode": {
    "name": "ipython",
    "version": 3
   },
   "file_extension": ".py",
   "mimetype": "text/x-python",
   "name": "python",
   "nbconvert_exporter": "python",
   "pygments_lexer": "ipython3",
   "version": "3.9.7"
  }
 },
 "nbformat": 4,
 "nbformat_minor": 5
}
