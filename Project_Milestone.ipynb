{
 "cells": [
  {
   "cell_type": "markdown",
   "id": "9f6f4b66-f23c-4882-9f29-491c23308d81",
   "metadata": {},
   "source": [
    "# **Project Reports**\n",
    "_____________________________________________________________________________"
   ]
  },
  {
   "cell_type": "markdown",
   "id": "5876f0f2-522e-4d62-8d87-316a8874746c",
   "metadata": {},
   "source": [
    "**Project Milestone 1**"
   ]
  },
  {
   "cell_type": "markdown",
   "id": "73d75448-9585-421b-a1b3-598bf9ba84af",
   "metadata": {},
   "source": [
    "| Deliverable  | Percent Complete | Expected Percent By Next Milestone | Estimated Completion Date |\n",
    "|--------------|------------------|------------------------------------|---------------------------|\n",
    "|    Code      |        0%        |                 15%                |          Apr. 11          |\n",
    "|    Demo      |        0%        |                 10%                |           Apr. 4          |\n",
    "|   Dataset    |        0%        |                 25%                |          Mar. 28          |\n",
    "| Presentation |        0%        |                 0%                 |            TBD            |\n",
    "\n",
    "\n",
    "1. This is the first milestone report, so therefore there are no progress to compare to the last \n",
    "2. This is the first milestone report, so therefore there are no progress to compare to the last\n",
    "3. The main deliverable goals to meet next time is to get 15% of the code/demo done and Brian, Jacob V, and Lance are going to work on that. Also to get 25% of the dataset done, Jacob L and Kevin are working on that. "
   ]
  },
  {
   "cell_type": "markdown",
   "id": "945fb1d6-5d4c-49ed-af75-b0e68903bde5",
   "metadata": {},
   "source": [
    "**Project Milestone 2**"
   ]
  },
  {
   "cell_type": "markdown",
   "id": "636bd76f-68f5-4283-98d8-8a4c650cff9c",
   "metadata": {},
   "source": [
    "| Deliverable  | Percent Complete | Expected Percent By Next Milestone | Estimated Completion Date |\n",
    "|--------------|------------------|------------------------------------|---------------------------|\n",
    "|    Code      |        5-10%     |                 25%                |          Apr. 11          |\n",
    "|    Demo      |        0%        |                 10%                |           Apr. 4          |\n",
    "|   Dataset    |        10%       |                 35%                |          Mar. 28          |\n",
    "| Presentation |        0%        |                 0%                 |            TBD            |\n",
    "\n",
    "\n",
    "1. This second milestone report, we have started the code and about 5-10% of it is done. Also, we have our dataset to start the model and about 10% of it is ready. \n",
    "2. We have not done the demo and have not accomplished the presentation. \n",
    "3. The main deliverable goals to meet next time is to get 25% of the code/demo done. Also to get 35% of the dataset done."
   ]
  },
  {
   "cell_type": "markdown",
   "id": "7395f167-6aaf-428b-b532-ec029d7b8e1b",
   "metadata": {},
   "source": [
    "**Project Milestone 3**"
   ]
  },
  {
   "cell_type": "markdown",
   "id": "5316bd64-6d4a-42c4-8173-8ac51bb2d772",
   "metadata": {},
   "source": [
    "| Deliverable  | Percent Complete | Expected Percent By Next Milestone | Estimated Completion Date |\n",
    "|--------------|------------------|------------------------------------|---------------------------|\n",
    "|    Code      |        10%       |                 35%                |          Apr. 18          |\n",
    "|    Demo      |        0%        |                 10%                |           Apr. 11         |\n",
    "|   Dataset    |        10%       |                 35%                |          Apr. 4           |\n",
    "| Presentation |        0%        |                 0%                 |            TBD            |\n",
    "\n",
    "\n",
    "1. This third milestone report, we have finished more of our code than the previous week about 10% of the code. Also, we still have about 10% dataset of the model. \n",
    "2. We have not done the demo due to not enough code being done, and have not update our dataset.  \n",
    "3. The main deliverable goal is to meet the target percentage. We will have to catch up on our percentage of our project this week (mainly dataset and code). We are keeping the same people on their jobs for the project. "
   ]
  },
  {
   "cell_type": "markdown",
   "id": "5da3eca8-16ae-4a96-834a-3aed08e4ec03",
   "metadata": {},
   "source": [
    "**Project Milestone 4**"
   ]
  },
  {
   "cell_type": "markdown",
   "id": "b8c7de28-41eb-4e9b-b3a7-45400122a0f9",
   "metadata": {},
   "source": [
    "| Deliverable  | Percent Complete | Expected Percent By Next Milestone | Estimated Completion Date |\n",
    "|--------------|------------------|------------------------------------|---------------------------|\n",
    "|    Code      |       30%        |                 45%                |          Apr. 18          |\n",
    "|    Demo      |        0%        |                  0%                |          May. 2           |\n",
    "|   Dataset    |       15%        |                 35%                |          Apr. 4           |\n",
    "| Presentation |        0%        |                 25%                |          Apr. 11          |\n",
    "\n",
    "\n",
    "1. This Fourth milestone report, we have finished the base of our code using the convolution network and have gotten closer to our set percentages.\n",
    "2. We have not done the demo, but will start in the near future. \n",
    "3. The main deliverable goal is to hit our target percentage of our code and dataset, so that we can start the demo and presentations. Brian, Lance, and Jacob V are still working on the code, Kevin and Jabob L are on the Dataset, and will start on presentation. "
   ]
  },
  {
   "cell_type": "markdown",
   "id": "50cc3fb7-d412-4211-9ab8-b6ee995e9099",
   "metadata": {},
   "source": [
    "**Project Milestone 5**"
   ]
  },
  {
   "cell_type": "markdown",
   "id": "da52b5bb-bef1-468c-8077-d01c61fcfa83",
   "metadata": {},
   "source": [
    "| Deliverable  | Percent Complete | Expected Percent By Next Milestone | Estimated Completion Date |\n",
    "|--------------|------------------|------------------------------------|---------------------------|\n",
    "|    Code      |       30%        |                 45%                |          Apr. 18          |\n",
    "|    Demo      |        0%        |                  0%                |          May. 2           |\n",
    "|   Dataset    |       25%        |                 40%                |          Apr. 18          |\n",
    "| Presentation |       15%        |                 35%                |          Apr. 18          |\n",
    "\n",
    "1. This Fifth milestone report, we didn't finished much of the code this week, but started to gather more dataset. We also have the base of the presentation and we start to fill that out by next week.\n",
    "2. We have not done the demo, but will start in the near future. \n",
    "3. The main deliverable goal is to hit our target percentage of our code and dataset, so that we can start the demo and presentations. Brian, Lance, and Jacob V are still working on the code, Kevin and Jabob L are on the Dataset, and will start on presentation. \n",
    "\n",
    "1.This Fifth milestone report, we didn't finished much of the code this week, but started to gather more dataset. We also have the base of the presentation and we start to fill that out by next week. \n",
    "2.We have not done the demo, but will start in the near future.\n",
    "3.The main deliverable goal is to finish the code, run it with the dataset, and get presentation sorted. Brian, Lance, and Jacob V are still working on the code, Kevin and Jabob L are on the Dataset. Code is our next step. "
   ]
  },
  {
   "cell_type": "code",
   "execution_count": null,
   "id": "7c7acbe9-1f24-4ac8-a9ff-db2b52af5618",
   "metadata": {},
   "outputs": [],
   "source": []
  }
 ],
 "metadata": {
  "kernelspec": {
   "display_name": "Python 3 (ipykernel)",
   "language": "python",
   "name": "python3"
  },
  "language_info": {
   "codemirror_mode": {
    "name": "ipython",
    "version": 3
   },
   "file_extension": ".py",
   "mimetype": "text/x-python",
   "name": "python",
   "nbconvert_exporter": "python",
   "pygments_lexer": "ipython3",
   "version": "3.9.7"
  }
 },
 "nbformat": 4,
 "nbformat_minor": 5
}
