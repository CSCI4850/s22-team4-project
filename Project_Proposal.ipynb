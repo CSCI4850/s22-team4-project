{
 "cells": [
  {
   "cell_type": "markdown",
   "id": "cf057c53-6ef6-4351-9793-12388ad3e5ca",
   "metadata": {},
   "source": [
    "# Project Proposal (NFT Property Predictor)\n"
   ]
  },
  {
   "cell_type": "markdown",
   "id": "39e0a70c-098b-411b-8c63-173dfd412d4b",
   "metadata": {},
   "source": [
    "----"
   ]
  },
  {
   "cell_type": "markdown",
   "id": "3fad5950-fe88-4983-9d73-ceb9b25fc53e",
   "metadata": {},
   "source": [
    "## Background"
   ]
  },
  {
   "cell_type": "markdown",
   "id": "b6f21ff6-6657-49a7-8c82-9e2fb9c91eb0",
   "metadata": {},
   "source": [
    "* Ethereum\n",
    "    * **Ethereum** (ETH, Ξ) is one of the main forms of cryptocurrencies used to purchase / trade for an NFT\n",
    "    * Other alternatives include **Bitcoin** (BTC, ₿), **Dogecoin** (DOGE, Ð)\n",
    "\n",
    "\n",
    "* NFTs\n",
    "    * **NFT** is an acronym for **<u>Non-Fungible</u> Token**, **Non-Fungible** meaning *one-of-a-kind*, not interchangeable\n",
    "    * These are tokens that are **generated on the blockchain** that can be traded like any other cryptocurrency\n",
    "    * These tokens are **unique** and store *metadata* information that links the token to a unique asset\n",
    "    * On the blockchain, NFT transactions are *publicized*, and proof of ownership (of the token, *not* always the asset) is established via the last completed transaction\n",
    "    \n",
    "    \n",
    "* NFT value\n",
    "    * The **value** of an NFT rises and falls due to **supply** and **demand**\n",
    "        * Supply is **negatively** correlated to price (*digital scarcity*)\n",
    "        * Demand is **positively** correlated to price\n",
    "    * NFTs *can* accrue their value over time, although this network will only work on the **current snapshot** of existing NFTs\n",
    "    \n",
    "    \n",
    "* NFT Scams\n",
    "    * An **NFT scam** (or *\"rug-pull\"*) is the act of claiming *all* or *most* of the cryptocurrency that was used to purchase an NFT, and **purposefully** not fulfilling expectations (such as *roadmaps*, *plans*, and *statements regarding the future of the tokens*)\n",
    "    * NFT scams are *fairly* common, and range from high to low effort baiting\n",
    "\n",
    "\n",
    "* Fun Facts\n",
    "    * NFT scammers tend to funnel money into *private* wallets, and use services such as **Tornado Cash** to obscure the trail of transactions out of the account by distributing the money in varying quantities throughout a *vast* number of wallets\n",
    "    * The creator of the [Pixelmon NFTs](https://opensea.io/ThePixelmonGame?tab=created) has made a total of **$73m USD** (25,080.73 Ξ) *as of 3/3/22*"
   ]
  },
  {
   "cell_type": "markdown",
   "id": "e1ec0dd9-1819-4329-86ee-2b3ab95236ad",
   "metadata": {
    "tags": []
   },
   "source": [
    "## Concept"
   ]
  },
  {
   "cell_type": "markdown",
   "id": "42bb8596-77c8-4932-a188-59e1400a5fe9",
   "metadata": {},
   "source": [
    "* Producing an estimated value of an NFT in ethereum, based *solely* on its compressed image.\n",
    "* *TDB:*\n",
    "    * *Compute the likelihood of the project being successful*\n",
    "    * *Compute the likelihood of the project being a scam*"
   ]
  },
  {
   "cell_type": "markdown",
   "id": "063e05b8-0cbe-4623-8846-3236f69964c7",
   "metadata": {},
   "source": [
    "## Approach"
   ]
  },
  {
   "cell_type": "markdown",
   "id": "9d467c27-236a-4481-abcf-1933a7d441a9",
   "metadata": {},
   "source": [
    "* Using **multi-layered Artificial Neural Networks** (ANN), accepting **raw image data** as input, and providing the desired outputs.\n",
    "* Training and testing the network as per the data set provided"
   ]
  },
  {
   "cell_type": "markdown",
   "id": "ac281e47-cd5f-4944-8779-be0049be4abb",
   "metadata": {},
   "source": [
    "## Data Sets"
   ]
  },
  {
   "cell_type": "markdown",
   "id": "6cf6fd3c-2bfd-422e-ba1d-2da47387d6bc",
   "metadata": {},
   "source": [
    "* Various artwork from successful NFT projects\n",
    "* Various artwork from unsuccessful NFT projects\n",
    "* Various artwork from NFT scam projects\n",
    "* The values of each NFT at their current or highest peaks"
   ]
  },
  {
   "cell_type": "markdown",
   "id": "610b6296-cb78-42af-a22a-504c82af3fc1",
   "metadata": {},
   "source": [
    "## Testing"
   ]
  },
  {
   "cell_type": "markdown",
   "id": "1b229669-7ea5-41b8-b5c1-df30c7351dc6",
   "metadata": {},
   "source": [
    "* Testing against samples from the data set that are from different NFT projects it has never seen before"
   ]
  }
 ],
 "metadata": {
  "kernelspec": {
   "display_name": "Bash",
   "language": "bash",
   "name": "bash"
  },
  "language_info": {
   "codemirror_mode": "shell",
   "file_extension": ".sh",
   "mimetype": "text/x-sh",
   "name": "bash"
  }
 },
 "nbformat": 4,
 "nbformat_minor": 5
}
